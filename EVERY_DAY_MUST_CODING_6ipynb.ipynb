{
  "nbformat": 4,
  "nbformat_minor": 0,
  "metadata": {
    "colab": {
      "name": "EVERY-DAY-MUST-CODING-6ipynb",
      "provenance": [],
      "toc_visible": true,
      "authorship_tag": "ABX9TyNMOb+UCM9JXqHXploiBKHk",
      "include_colab_link": true
    },
    "kernelspec": {
      "name": "python3",
      "display_name": "Python 3"
    },
    "language_info": {
      "name": "python"
    }
  },
  "cells": [
    {
      "cell_type": "markdown",
      "metadata": {
        "id": "view-in-github",
        "colab_type": "text"
      },
      "source": [
        "<a href=\"https://colab.research.google.com/github/krlnggrn/EVERY-DAY-MUST-CODING-6/blob/main/EVERY_DAY_MUST_CODING_6ipynb.ipynb\" target=\"_parent\"><img src=\"https://colab.research.google.com/assets/colab-badge.svg\" alt=\"Open In Colab\"/></a>"
      ]
    },
    {
      "cell_type": "markdown",
      "source": [
        "# DATA PREPARATION"
      ],
      "metadata": {
        "id": "WS6UDimG4cGf"
      }
    },
    {
      "cell_type": "markdown",
      "source": [
        "## Normalization"
      ],
      "metadata": {
        "id": "Z7MK1F3T4kjl"
      }
    },
    {
      "cell_type": "markdown",
      "source": [
        "min-max scaling di mana nilai-nilai dipetakan ke dalam skala 0 sampai 1. SKLearn menyediakan library untuk normalization"
      ],
      "metadata": {
        "id": "PHzI-FgB7D6E"
      }
    },
    {
      "cell_type": "code",
      "execution_count": 4,
      "metadata": {
        "id": "7eVUReZnDCx2"
      },
      "outputs": [],
      "source": [
        "from sklearn.preprocessing import MinMaxScaler"
      ]
    },
    {
      "cell_type": "code",
      "source": [
        "data = [[12000000, 33], [35000000, 45], [4000000, 23], [6500000, 26], [9000000, 29]]\n"
      ],
      "metadata": {
        "id": "8N9_GZqj7II1"
      },
      "execution_count": 5,
      "outputs": []
    },
    {
      "cell_type": "markdown",
      "source": [
        "buat objek MinMaxScaler dan panggil fungsi fit() dan memanggil argumen data.\n",
        "\n",
        "fungsi fit() dari objek MinmaxScaler = utk menghitung min/max pada tiap kolom"
      ],
      "metadata": {
        "id": "YEdwWhkk7jRV"
      }
    },
    {
      "cell_type": "code",
      "source": [
        "scaler = MinMaxScaler()\n",
        "scaler.fit(data)"
      ],
      "metadata": {
        "colab": {
          "base_uri": "https://localhost:8080/"
        },
        "id": "vKUIuWta727G",
        "outputId": "91cf1768-24fe-44ff-b71b-5c2c8f645bca"
      },
      "execution_count": 7,
      "outputs": [
        {
          "output_type": "execute_result",
          "data": {
            "text/plain": [
              "MinMaxScaler()"
            ]
          },
          "metadata": {},
          "execution_count": 7
        }
      ]
    },
    {
      "cell_type": "markdown",
      "source": [
        "fungsi transform() utk mengaplikasikan acaler pada data"
      ],
      "metadata": {
        "id": "nsx7NEm_8Fq4"
      }
    },
    {
      "cell_type": "code",
      "source": [
        "scaler.transform(data)"
      ],
      "metadata": {
        "colab": {
          "base_uri": "https://localhost:8080/"
        },
        "id": "wR4aJCY08Mvb",
        "outputId": "8be2d0ed-b7c5-4a98-9b45-2f2deb101b24"
      },
      "execution_count": 8,
      "outputs": [
        {
          "output_type": "execute_result",
          "data": {
            "text/plain": [
              "array([[0.25806452, 0.45454545],\n",
              "       [1.        , 1.        ],\n",
              "       [0.        , 0.        ],\n",
              "       [0.08064516, 0.13636364],\n",
              "       [0.16129032, 0.27272727]])"
            ]
          },
          "metadata": {},
          "execution_count": 8
        }
      ]
    },
    {
      "cell_type": "markdown",
      "source": [
        "## Standardization"
      ],
      "metadata": {
        "id": "lAVH5_Rk8jFA"
      }
    },
    {
      "cell_type": "markdown",
      "source": [
        "Standardization adalah proses konversi nilai-nilai dari suatu fitur sehingga nilai-nilai tersebut memiliki skala yang sama"
      ],
      "metadata": {
        "id": "pqq472xI8lXR"
      }
    },
    {
      "cell_type": "code",
      "source": [
        "from sklearn import preprocessing"
      ],
      "metadata": {
        "id": "vVMMB2KZ8mHB"
      },
      "execution_count": 9,
      "outputs": []
    },
    {
      "cell_type": "code",
      "source": [
        "data = [[12000000, 33], [35000000, 45], [4000000, 23], [6500000, 26], [9000000, 29]]"
      ],
      "metadata": {
        "id": "lGvtNoif8uCz"
      },
      "execution_count": 10,
      "outputs": []
    },
    {
      "cell_type": "markdown",
      "source": [
        "buat objek scaler dan panggil fungsi fit dari scaler data.\n",
        "\n",
        "fit() = utk menghitung rata2 dan deviasi standar dari setiap kolom atribut utk kemudian dipakai fungsi transform."
      ],
      "metadata": {
        "id": "VYJD3lxS807q"
      }
    },
    {
      "cell_type": "code",
      "source": [
        "scaler = preprocessing.StandardScaler().fit(data)"
      ],
      "metadata": {
        "id": "Vb1E5yyJ9ZNP"
      },
      "execution_count": 11,
      "outputs": []
    },
    {
      "cell_type": "markdown",
      "source": [
        "panggil fungsi transform utk mengaplikasikan standard scaler pada data"
      ],
      "metadata": {
        "id": "cuXEHHyR9jVH"
      }
    },
    {
      "cell_type": "code",
      "source": [
        "data = scaler.transform(data)\n",
        "data"
      ],
      "metadata": {
        "colab": {
          "base_uri": "https://localhost:8080/"
        },
        "id": "Q8Bce8C49oby",
        "outputId": "742f2293-83d8-4a19-b581-dba08b428c61"
      },
      "execution_count": 12,
      "outputs": [
        {
          "output_type": "execute_result",
          "data": {
            "text/plain": [
              "array([[-0.11638732,  0.23521877],\n",
              "       [ 1.94277296,  1.80334389],\n",
              "       [-0.83261698, -1.07155217],\n",
              "       [-0.60879521, -0.67952089],\n",
              "       [-0.38497344, -0.28748961]])"
            ]
          },
          "metadata": {},
          "execution_count": 12
        }
      ]
    }
  ]
}